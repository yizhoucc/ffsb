{
 "cells": [
  {
   "cell_type": "code",
   "execution_count": 125,
   "metadata": {},
   "outputs": [
    {
     "name": "stdout",
     "output_type": "stream",
     "text": [
      "Running DDPG Agent: using  cpu\n"
     ]
    }
   ],
   "source": [
    "from DDPGv2Agent import Agent\n",
    "from DDPGv2Agent import Noise\n",
    "from collections import deque\n",
    "from FireflyEnv import Model # firefly_task.py\n",
    "import matplotlib.pyplot as plt\n",
    "\n",
    "# read configuration parameters\n",
    "from Config import Config\n",
    "arg = Config()\n",
    "# fix random seed\n",
    "import random\n",
    "random.seed(arg.SEED_NUMBER)\n",
    "import torch\n",
    "torch.manual_seed(arg.SEED_NUMBER)\n",
    "if torch.cuda.is_available():\n",
    "    torch.cuda.manual_seed(arg.SEED_NUMBER)\n",
    "import numpy as np\n",
    "np.random.seed(arg.SEED_NUMBER)\n",
    "import time\n",
    "\n",
    "\n",
    "torch.backends.cudnn.deterministic = True\n",
    "torch.backends.cudnn.benchmark = False\n",
    "\n",
    "import datetime\n",
    "import pandas as pd\n",
    "\n",
    "filename = '20191016-205855-4' # agent information\n",
    "df = pd.read_csv('../firefly-inverse-data/data/' + filename + '_log.csv',\n",
    "                 usecols=['discount_factor','process gain forward', 'process gain angular', 'process noise std forward',\n",
    "                          'process noise std angular', 'obs gain forward', 'obs gain angular', 'obs noise std forward',\n",
    "                          'obs noise std angular', 'goal radius'])\n",
    "\n",
    "DISCOUNT_FACTOR = df['discount_factor'][0]\n",
    "gains_range = [np.floor(df['process gain forward'].min()), np.ceil(df['process gain forward'].max()),\n",
    "               np.floor(df['process gain angular'].min()), np.ceil(df['process gain angular'].max())]\n",
    "\n",
    "std_range = [df['process noise std forward'].min(), df['process noise std forward'].max(),\n",
    "               df['process noise std angular'].min(), df['process noise std angular'].max()]\n",
    "goal_radius_range = [df['goal radius'].min(), df['goal radius'].max()]\n",
    "\n",
    "\n",
    "env = Model(arg) # build an environment\n",
    "x, pro_gains, pro_noise_stds, goal_radius = env.reset(gains_range, std_range, goal_radius_range)\n",
    "\n",
    "state_dim = env.state_dim\n",
    "action_dim = env.action_dim\n",
    "\n",
    "MAX_EPISODE = 100\n",
    "std = 0.00001 #0.05\n",
    "noise = Noise(action_dim, mean=0., std=std)\n",
    "\n",
    "agent = Agent(state_dim, action_dim, arg,  filename, hidden_dim=128, gamma=DISCOUNT_FACTOR, tau=0.001)\n",
    "agent.load(filename)\n",
    "\n",
    "tot_t = 0.\n",
    "episode = 0.\n",
    "\n",
    "b, state, obs_gains, obs_noise_stds = agent.Bstep.reset(x, torch.zeros(1), pro_gains, pro_noise_stds, \n",
    "                                                        goal_radius, gains_range, std_range)  # reset monkey's internal model\n",
    "\n",
    "t = torch.zeros(1) # to track the amount of time steps to catch a firefly"
   ]
  },
  {
   "cell_type": "code",
   "execution_count": 150,
   "metadata": {},
   "outputs": [
    {
     "data": {
      "text/plain": [
       "Text(0, 0.5, 'action')"
      ]
     },
     "execution_count": 150,
     "metadata": {},
     "output_type": "execute_result"
    },
    {
     "data": {
      "image/png": "[encoded data removed]",
      "text/plain": [
       "<Figure size 432x288 with 1 Axes>"
      ]
     },
     "metadata": {
      "needs_background": "light"
     },
     "output_type": "display_data"
    }
   ],
   "source": [
    "val_range = np.arange(gains_range[0],gains_range[1],0.1)\n",
    "actions = np.zeros([len(val_range),2])\n",
    "\n",
    "for id, val in enumerate(val_range):\n",
    "    pro_gains[0]= val\n",
    "    theta = pro_gains, pro_noise_stds, obs_gains, obs_noise_stds, goal_radius\n",
    "   \n",
    "    state = agent.Bstep.Breshape(b, t, theta)\n",
    "    actions[id] = agent.select_action(state)  # with action noise\n",
    "    \n",
    "plt.figure;\n",
    "plt.plot(val_range, actions)\n",
    "plt.xlabel('forward process gain')\n",
    "plt.ylabel('action')"
   ]
  },
  {
   "cell_type": "code",
   "execution_count": 151,
   "metadata": {},
   "outputs": [
    {
     "data": {
      "text/plain": [
       "(tensor([11.9000, 16.9000]),\n",
       " tensor([1.0000, 1.9000]),\n",
       " tensor([ 8.9963, 14.9694]),\n",
       " tensor([1.2597, 1.1298]),\n",
       " 0.4000006079673767)"
      ]
     },
     "execution_count": 151,
     "metadata": {},
     "output_type": "execute_result"
    }
   ],
   "source": [
    "theta"
   ]
  },
  {
   "cell_type": "code",
   "execution_count": 152,
   "metadata": {},
   "outputs": [
    {
     "data": {
      "text/plain": [
       "Text(0, 0.5, 'action')"
      ]
     },
     "execution_count": 152,
     "metadata": {},
     "output_type": "execute_result"
    },
    {
     "data": {
      "image/png": "[encoded data removed]",
      "text/plain": [
       "<Figure size 432x288 with 1 Axes>"
      ]
     },
     "metadata": {
      "needs_background": "light"
     },
     "output_type": "display_data"
    }
   ],
   "source": [
    "val_range = np.arange(gains_range[2],gains_range[3],0.1)\n",
    "#val_range = np.arange(0,20,0.1)\n",
    "actions = np.zeros([len(val_range),2])\n",
    "\n",
    "for id, val in enumerate(val_range):\n",
    "    pro_gains[1]= val\n",
    "    theta = pro_gains, pro_noise_stds, obs_gains, obs_noise_stds, goal_radius\n",
    "   \n",
    "    state = agent.Bstep.Breshape(b, t, theta)\n",
    "    actions[id] = agent.select_action(state)  # with action noise\n",
    "    \n",
    "plt.figure;\n",
    "plt.plot(val_range, actions)\n",
    "plt.xlabel('angular process gain')\n",
    "plt.ylabel('action')"
   ]
  },
  {
   "cell_type": "code",
   "execution_count": 153,
   "metadata": {},
   "outputs": [
    {
     "data": {
      "text/plain": [
       "Text(0, 0.5, 'action')"
      ]
     },
     "execution_count": 153,
     "metadata": {},
     "output_type": "execute_result"
    },
    {
     "data": {
      "image/png": "[encoded data removed]",
      "text/plain": [
       "<Figure size 432x288 with 1 Axes>"
      ]
     },
     "metadata": {
      "needs_background": "light"
     },
     "output_type": "display_data"
    }
   ],
   "source": [
    "val_range = np.arange(std_range[0],std_range[1],0.01)\n",
    "actions = np.zeros([len(val_range),2])\n",
    "\n",
    "for id, pro_noise_std_vel in enumerate(np.arange(std_range[0],std_range[1])):\n",
    "    pro_noise_stds[0]= pro_noise_std_vel\n",
    "    theta = pro_gains, pro_noise_stds, obs_gains, obs_noise_stds, goal_radius\n",
    "   \n",
    "    state = agent.Bstep.Breshape(b, t, theta)\n",
    "    actions[id] = agent.select_action(state)  # with action noise\n",
    "    \n",
    "plt.figure;\n",
    "plt.plot(val_range, actions)\n",
    "plt.xlabel('forward std range')\n",
    "plt.ylabel('action')"
   ]
  },
  {
   "cell_type": "code",
   "execution_count": 154,
   "metadata": {},
   "outputs": [
    {
     "data": {
      "text/plain": [
       "Text(0, 0.5, 'action')"
      ]
     },
     "execution_count": 154,
     "metadata": {},
     "output_type": "execute_result"
    },
    {
     "data": {
      "image/png": "[encoded data removed]",
      "text/plain": [
       "<Figure size 432x288 with 1 Axes>"
      ]
     },
     "metadata": {
      "needs_background": "light"
     },
     "output_type": "display_data"
    }
   ],
   "source": [
    "val_range = np.arange(std_range[2],std_range[3],0.1)\n",
    "actions = np.zeros([len(val_range),2])\n",
    "\n",
    "for id, val in enumerate(val_range):\n",
    "    pro_noise_stds[1]= val\n",
    "    theta = pro_gains, pro_noise_stds, obs_gains, obs_noise_stds, goal_radius\n",
    "   \n",
    "    state = agent.Bstep.Breshape(b, t, theta)\n",
    "    actions[id] = agent.select_action(state)  # with action noise\n",
    "    \n",
    "plt.figure;\n",
    "plt.plot(val_range, actions)\n",
    "plt.xlabel('angular std range')\n",
    "plt.ylabel('action')"
   ]
  },
  {
   "cell_type": "code",
   "execution_count": 155,
   "metadata": {},
   "outputs": [
    {
     "name": "stdout",
     "output_type": "stream",
     "text": [
      "0.3000006079673767\n",
      "0.4000006079673767\n"
     ]
    },
    {
     "data": {
      "text/plain": [
       "Text(0, 0.5, 'action')"
      ]
     },
     "execution_count": 155,
     "metadata": {},
     "output_type": "execute_result"
    },
    {
     "data": {
      "image/png": "[encoded data removed]",
      "text/plain": [
       "<Figure size 432x288 with 1 Axes>"
      ]
     },
     "metadata": {
      "needs_background": "light"
     },
     "output_type": "display_data"
    }
   ],
   "source": [
    "val_range = np.arange(goal_radius_range[0],goal_radius_range[1],0.1)\n",
    "actions = np.zeros([len(val_range),2])\n",
    "\n",
    "for id, val in enumerate(val_range):\n",
    "    goal_radius= val\n",
    "    print(val)\n",
    "    theta = pro_gains, pro_noise_stds, obs_gains, obs_noise_stds, goal_radius\n",
    "   \n",
    "    state = agent.Bstep.Breshape(b, t, theta)\n",
    "    actions[id] = agent.select_action(state)  # with action noise\n",
    "    \n",
    "plt.figure;\n",
    "plt.plot(val_range, actions)\n",
    "plt.xlabel('goal radius')\n",
    "plt.ylabel('action')"
   ]
  },
  {
   "cell_type": "code",
   "execution_count": 156,
   "metadata": {},
   "outputs": [
    {
     "data": {
      "text/plain": [
       "tensor([[7.6635e-01, 6.2273e-01, 0.0000e+00, 0.0000e+00, 3.0000e+00, 1.0000e-04,\n",
       "         0.0000e+00, 1.0000e-04, 0.0000e+00, 0.0000e+00, 1.0000e-04, 0.0000e+00,\n",
       "         0.0000e+00, 0.0000e+00, 1.0000e-04, 0.0000e+00, 0.0000e+00, 0.0000e+00,\n",
       "         -0.0000e+00, 1.0000e-04, 1.1900e+01, 1.6900e+01, 1.0000e+00, 1.9000e+00,\n",
       "         8.9963e+00, 1.4969e+01, 1.2597e+00, 1.1298e+00, 4.0000e-01]])"
      ]
     },
     "execution_count": 156,
     "metadata": {},
     "output_type": "execute_result"
    }
   ],
   "source": [
    "state"
   ]
  },
  {
   "cell_type": "code",
   "execution_count": 157,
   "metadata": {},
   "outputs": [],
   "source": [
    "action= agent.select_action(state)\n",
    "t = t +1\n",
    "next_x, reached_target = env(x, action.view(-1)) #track true next_x of monkey\n",
    "next_ox = agent.Bstep.observations(next_x)  # observation\n",
    "next_b, info = agent.Bstep(b, next_ox, action, env.box) # belief next state, info['stop']=terminal # reward only depends on belief\n",
    "next_state = agent.Bstep.Breshape(next_b, t, theta) # state used in policy is different from belief\n",
    "state = next_state\n"
   ]
  },
  {
   "cell_type": "code",
   "execution_count": 124,
   "metadata": {
    "scrolled": true
   },
   "outputs": [
    {
     "data": {
      "text/plain": [
       "tensor([[ 1.0305e-01,  1.1543e+00,  1.4511e+00, -6.7515e-01,  5.0000e+00,\n",
       "          1.0000e-04, -1.2471e-08,  1.0001e-04,  8.9642e-07, -1.3909e-06,\n",
       "          9.9986e-05,  0.0000e+00,  0.0000e+00,  0.0000e+00,  1.3867e-01,\n",
       "          0.0000e+00,  0.0000e+00,  0.0000e+00, -0.0000e+00,  7.5415e-02,\n",
       "          1.1900e+01,  1.6900e+01,  1.0000e+00,  1.9000e+00,  8.9963e+00,\n",
       "          1.4969e+01,  1.2597e+00,  1.1298e+00,  4.0000e-01]])"
      ]
     },
     "execution_count": 124,
     "metadata": {},
     "output_type": "execute_result"
    }
   ],
   "source": [
    "state"
   ]
  },
  {
   "cell_type": "code",
   "execution_count": 144,
   "metadata": {},
   "outputs": [],
   "source": [
    "thetas = [[pro_gain_vel, pro_gain_ang, obs_gain_vel, obs_gain_ang, goal_radius] \n",
    "            for pro_gain_vel in range(int(gains_range[0]),int(gains_range[1])) \n",
    "            for pro_gain_ang in range(int(gains_range[2]),int(gains_range[3]))\n",
    "            for obs_gain_vel in range(int(gains_range[0]),int(gains_range[1])) \n",
    "            for obs_gain_ang in range(int(gains_range[2]),int(gains_range[3]))\n",
    "            for goal_radius in np.arange(0.35,0.4, 0.01)]"
   ]
  },
  {
   "cell_type": "code",
   "execution_count": null,
   "metadata": {},
   "outputs": [],
   "source": []
  }
 ],
 "metadata": {
  "kernelspec": {
   "display_name": "Python 3",
   "language": "python",
   "name": "python3"
  },
  "language_info": {
   "codemirror_mode": {
    "name": "ipython",
    "version": 3
   },
   "file_extension": ".py",
   "mimetype": "text/x-python",
   "name": "python",
   "nbconvert_exporter": "python",
   "pygments_lexer": "ipython3",
   "version": "3.7.4"
  }
 },
 "nbformat": 4,
 "nbformat_minor": 2
}
