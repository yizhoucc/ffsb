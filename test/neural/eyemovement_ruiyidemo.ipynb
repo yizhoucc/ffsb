{
 "cells": [
  {
   "cell_type": "code",
   "execution_count": 1,
   "id": "9de58ee9",
   "metadata": {},
   "outputs": [
    {
     "name": "stdout",
     "output_type": "stream",
     "text": [
      "/workspaces/ffsb/test/neural\n",
      "Requirement already satisfied: neo in /usr/local/lib/python3.7/site-packages (0.9.0)\n",
      "Collecting neo\n",
      "  Downloading neo-0.11.1.tar.gz (3.9 MB)\n",
      "\u001b[2K     \u001b[90m━━━━━━━━━━━━━━━━━━━━━━━━━━━━━━━━━━━━━━━━\u001b[0m \u001b[32m3.9/3.9 MB\u001b[0m \u001b[31m12.3 MB/s\u001b[0m eta \u001b[36m0:00:00\u001b[0m00:01\u001b[0m00:01\u001b[0m\n",
      "\u001b[?25h  Preparing metadata (setup.py) ... \u001b[?25ldone\n",
      "\u001b[?25hRequirement already satisfied: packaging in /usr/local/lib/python3.7/site-packages (from neo) (21.3)\n",
      "Collecting numpy>=1.18.5\n",
      "  Using cached numpy-1.21.6-cp37-cp37m-manylinux_2_12_x86_64.manylinux2010_x86_64.whl (15.7 MB)\n",
      "Requirement already satisfied: quantities>=0.12.1 in /usr/local/lib/python3.7/site-packages (from neo) (0.12.4)\n",
      "Requirement already satisfied: pyparsing!=3.0.5,>=2.0.2 in /usr/local/lib/python3.7/site-packages (from packaging->neo) (2.4.6)\n",
      "Building wheels for collected packages: neo\n",
      "  Building wheel for neo (setup.py) ... \u001b[?25ldone\n",
      "\u001b[?25h  Created wheel for neo: filename=neo-0.11.1-py3-none-any.whl size=579945 sha256=4f9c2c8e441116d5177db463d0feab376a1e6b115c590ccc7ba4e9e6fc318bb2\n",
      "  Stored in directory: /root/.cache/pip/wheels/97/dc/2c/5ed59a57d36d07d0b622afba217744bb585e9bfde01a0c850a\n",
      "Successfully built neo\n",
      "Installing collected packages: numpy, neo\n",
      "  Attempting uninstall: numpy\n",
      "    Found existing installation: numpy 1.18.2\n",
      "    Uninstalling numpy-1.18.2:\n",
      "      Successfully uninstalled numpy-1.18.2\n",
      "  Attempting uninstall: neo\n",
      "    Found existing installation: neo 0.9.0\n",
      "    Uninstalling neo-0.9.0:\n",
      "      Successfully uninstalled neo-0.9.0\n",
      "\u001b[31mERROR: pip's dependency resolver does not currently take into account all the packages that are installed. This behaviour is the source of the following dependency conflicts.\n",
      "tensorflow 1.14.0 requires tensorboard<1.15.0,>=1.14.0, but you have tensorboard 2.10.0 which is incompatible.\n",
      "tensorboard 2.10.0 requires werkzeug>=1.0.1, but you have werkzeug 1.0.0 which is incompatible.\n",
      "numba 0.54.0 requires numpy<1.21,>=1.17, but you have numpy 1.21.6 which is incompatible.\u001b[0m\u001b[31m\n",
      "\u001b[0mSuccessfully installed neo-0.11.1 numpy-1.21.6\n",
      "\u001b[33mWARNING: Running pip as the 'root' user can result in broken permissions and conflicting behaviour with the system package manager. It is recommended to use a virtual environment instead: https://pip.pypa.io/warnings/venv\u001b[0m\u001b[33m\n",
      "\u001b[0m\n",
      "\u001b[1m[\u001b[0m\u001b[34;49mnotice\u001b[0m\u001b[1;39;49m]\u001b[0m\u001b[39;49m A new release of pip available: \u001b[0m\u001b[31;49m22.2.2\u001b[0m\u001b[39;49m -> \u001b[0m\u001b[32;49m23.0.1\u001b[0m\n",
      "\u001b[1m[\u001b[0m\u001b[34;49mnotice\u001b[0m\u001b[1;39;49m]\u001b[0m\u001b[39;49m To update, run: \u001b[0m\u001b[32;49mpip install --upgrade pip\u001b[0m\n"
     ]
    }
   ],
   "source": [
    "import pandas as pd\n",
    "import numpy as np\n",
    "import torch\n",
    "from scipy.signal import medfilt\n",
    "from scipy.stats import norm\n",
    "import neo\n",
    "from pathlib import Path\n",
    "import matplotlib.pyplot as plt\n",
    "#from my_utils import *\n",
    "import sys\n",
    "import os\n",
    "sys.path.append(os.path.abspath('..'))\n",
    "sys.path.append(os.path.abspath('../..'))\n",
    "# os.chdir('../..')\n",
    "print(os.getcwd())\n",
    "from monkey_functions import MonkeyDataExtractor\n",
    "!pip install neo --upgrade"
   ]
  },
  {
   "cell_type": "code",
   "execution_count": 2,
   "id": "8ff0dd47",
   "metadata": {},
   "outputs": [],
   "source": [
    "def cart2pol(x, y):\n",
    "    rho = np.sqrt(x**2 + y**2)\n",
    "    phi = np.arctan2(y, x)\n",
    "    return rho, phi\n",
    "def my_ceil(a, precision=0):\n",
    "    return np.round(a + 0.5 * 10**(-precision), precision)\n",
    "def my_floor(a, precision=0):\n",
    "    return np.round(a - 0.5 * 10**(-precision), precision)\n",
    "def get_relative_r_ang(px, py, heading_angle, target_x, target_y):\n",
    "    heading_angle = np.deg2rad(heading_angle)\n",
    "    distance_vector = np.vstack([px - target_x, py - target_y])\n",
    "    relative_r = np.linalg.norm(distance_vector, axis=0)\n",
    "    \n",
    "    relative_ang = heading_angle - (np.arctan2(py, px) - np.arctan2(target_y, target_x))\n",
    "    return relative_r, relative_ang"
   ]
  },
  {
   "cell_type": "code",
   "execution_count": 3,
   "id": "8dd6f064",
   "metadata": {},
   "outputs": [
    {
     "name": "stdout",
     "output_type": "stream",
     "text": [
      "starting ext\n"
     ]
    },
    {
     "ename": "KeyError",
     "evalue": "'channel_names'",
     "output_type": "error",
     "traceback": [
      "\u001b[0;31m---------------------------------------------------------------------------\u001b[0m",
      "\u001b[0;31mKeyError\u001b[0m                                  Traceback (most recent call last)",
      "\u001b[0;32m<ipython-input-3-119eb6d154f3>\u001b[0m in \u001b[0;36m<module>\u001b[0;34m\u001b[0m\n\u001b[1;32m      1\u001b[0m \u001b[0mdata_path\u001b[0m \u001b[0;34m=\u001b[0m \u001b[0mPath\u001b[0m\u001b[0;34m(\u001b[0m\u001b[0;34m'/data/bruno_pert/11-10-2017'\u001b[0m\u001b[0;34m)\u001b[0m\u001b[0;34m\u001b[0m\u001b[0;34m\u001b[0m\u001b[0m\n\u001b[1;32m      2\u001b[0m \u001b[0mbruno_data_extractor\u001b[0m \u001b[0;34m=\u001b[0m \u001b[0mMonkeyDataExtractor\u001b[0m\u001b[0;34m(\u001b[0m\u001b[0mfolder_path\u001b[0m\u001b[0;34m=\u001b[0m\u001b[0mdata_path\u001b[0m\u001b[0;34m)\u001b[0m\u001b[0;34m\u001b[0m\u001b[0;34m\u001b[0m\u001b[0m\n\u001b[0;32m----> 3\u001b[0;31m \u001b[0mbruno_perturb_trajectory\u001b[0m \u001b[0;34m=\u001b[0m \u001b[0mbruno_data_extractor\u001b[0m\u001b[0;34m(\u001b[0m\u001b[0;34m)\u001b[0m\u001b[0;34m\u001b[0m\u001b[0;34m\u001b[0m\u001b[0m\n\u001b[0m\u001b[1;32m      4\u001b[0m \u001b[0mbruno_perturb_trajectory\u001b[0m\u001b[0;34m\u001b[0m\u001b[0;34m\u001b[0m\u001b[0m\n",
      "\u001b[0;32m/workspaces/ffsb/monkey_functions.py\u001b[0m in \u001b[0;36m__call__\u001b[0;34m(self, downsample_fun, saving_fun, returndata)\u001b[0m\n\u001b[1;32m    491\u001b[0m             \u001b[0mself\u001b[0m\u001b[0;34m.\u001b[0m\u001b[0mnyu_segment\u001b[0m\u001b[0;34m(\u001b[0m\u001b[0;34m)\u001b[0m\u001b[0;34m\u001b[0m\u001b[0;34m\u001b[0m\u001b[0m\n\u001b[1;32m    492\u001b[0m         \u001b[0;32melse\u001b[0m\u001b[0;34m:\u001b[0m\u001b[0;34m\u001b[0m\u001b[0;34m\u001b[0m\u001b[0m\n\u001b[0;32m--> 493\u001b[0;31m             \u001b[0mself\u001b[0m\u001b[0;34m.\u001b[0m\u001b[0mbcm_extract_smr\u001b[0m\u001b[0;34m(\u001b[0m\u001b[0;34m)\u001b[0m\u001b[0;34m\u001b[0m\u001b[0;34m\u001b[0m\u001b[0m\n\u001b[0m\u001b[1;32m    494\u001b[0m             \u001b[0mself\u001b[0m\u001b[0;34m.\u001b[0m\u001b[0mbcm_extract_log\u001b[0m\u001b[0;34m(\u001b[0m\u001b[0;34m)\u001b[0m\u001b[0;34m\u001b[0m\u001b[0;34m\u001b[0m\u001b[0m\n\u001b[1;32m    495\u001b[0m             \u001b[0mself\u001b[0m\u001b[0;34m.\u001b[0m\u001b[0mbcm_segment\u001b[0m\u001b[0;34m(\u001b[0m\u001b[0;34m)\u001b[0m\u001b[0;34m\u001b[0m\u001b[0;34m\u001b[0m\u001b[0m\n",
      "\u001b[0;32m/workspaces/ffsb/monkey_functions.py\u001b[0m in \u001b[0;36mbcm_extract_smr\u001b[0;34m(self)\u001b[0m\n\u001b[1;32m    827\u001b[0m             \u001b[0;32mfor\u001b[0m \u001b[0mch_idx\u001b[0m\u001b[0;34m,\u001b[0m \u001b[0mch_data\u001b[0m \u001b[0;32min\u001b[0m \u001b[0menumerate\u001b[0m\u001b[0;34m(\u001b[0m\u001b[0mseg_reader\u001b[0m\u001b[0;34m.\u001b[0m\u001b[0manalogsignals\u001b[0m\u001b[0;34m[\u001b[0m\u001b[0;34m:\u001b[0m\u001b[0;34m-\u001b[0m\u001b[0;36m1\u001b[0m\u001b[0;34m]\u001b[0m\u001b[0;34m)\u001b[0m\u001b[0;34m:\u001b[0m\u001b[0;34m\u001b[0m\u001b[0;34m\u001b[0m\u001b[0m\n\u001b[1;32m    828\u001b[0m                 \u001b[0mchannel_signal\u001b[0m\u001b[0;34m[\u001b[0m\u001b[0;34m:\u001b[0m\u001b[0;34m,\u001b[0m \u001b[0mch_idx\u001b[0m\u001b[0;34m]\u001b[0m \u001b[0;34m=\u001b[0m \u001b[0mch_data\u001b[0m\u001b[0;34m.\u001b[0m\u001b[0mas_array\u001b[0m\u001b[0;34m(\u001b[0m\u001b[0;34m)\u001b[0m\u001b[0;34m[\u001b[0m\u001b[0;34m:\u001b[0m\u001b[0manalog_length\u001b[0m\u001b[0;34m]\u001b[0m\u001b[0;34m.\u001b[0m\u001b[0mT\u001b[0m\u001b[0;34m\u001b[0m\u001b[0;34m\u001b[0m\u001b[0m\n\u001b[0;32m--> 829\u001b[0;31m                 \u001b[0mchannel_names\u001b[0m\u001b[0;34m.\u001b[0m\u001b[0mappend\u001b[0m\u001b[0;34m(\u001b[0m\u001b[0mch_data\u001b[0m\u001b[0;34m.\u001b[0m\u001b[0mannotations\u001b[0m\u001b[0;34m[\u001b[0m\u001b[0;34m'channel_names'\u001b[0m\u001b[0;34m]\u001b[0m\u001b[0;34m[\u001b[0m\u001b[0;36m0\u001b[0m\u001b[0;34m]\u001b[0m\u001b[0;34m)\u001b[0m\u001b[0;34m\u001b[0m\u001b[0;34m\u001b[0m\u001b[0m\n\u001b[0m\u001b[1;32m    830\u001b[0m \u001b[0;34m\u001b[0m\u001b[0m\n\u001b[1;32m    831\u001b[0m             \u001b[0;31m# Add a time channel\u001b[0m\u001b[0;34m\u001b[0m\u001b[0;34m\u001b[0m\u001b[0;34m\u001b[0m\u001b[0m\n",
      "\u001b[0;31mKeyError\u001b[0m: 'channel_names'"
     ]
    }
   ],
   "source": [
    "data_path = Path('/data/bruno_pert/11-10-2017')\n",
    "bruno_data_extractor = MonkeyDataExtractor(folder_path=data_path)\n",
    "bruno_perturb_trajectory = bruno_data_extractor()\n",
    "bruno_perturb_trajectory"
   ]
  },
  {
   "cell_type": "code",
   "execution_count": 4,
   "id": "36be96a7",
   "metadata": {},
   "outputs": [],
   "source": [
    "def get_gaze_location(df, monkey_height=10):\n",
    "    gaze_xs = []; gaze_ys = []\n",
    "    target_xs = []; target_ys = []\n",
    "    for trial in df.itertuples():\n",
    "        ver_theta = np.deg2rad(-trial.eye_ver).clip(0.01, None)\n",
    "        hor_theta = np.deg2rad(-trial.eye_hor)\n",
    "        body_theta = np.deg2rad(trial.head_dir)\n",
    "        body_x, body_y = trial.pos_x, trial.pos_y\n",
    "\n",
    "        gaze_r = monkey_height / np.tan(ver_theta)\n",
    "        gaze_x = body_x + gaze_r * np.cos(body_theta + hor_theta)\n",
    "        gaze_y = body_y + gaze_r * np.sin(body_theta + hor_theta)\n",
    "        gaze_xs.append(gaze_x);  gaze_ys.append(gaze_y)\n",
    "        target_xs.append(np.ones_like(gaze_x) * trial.target_x)\n",
    "        target_ys.append(np.ones_like(gaze_y) * trial.target_y)\n",
    "        \n",
    "    return df.assign(gaze_x=gaze_xs, gaze_y=gaze_ys,\n",
    "                     target_xs=target_xs, target_ys=target_ys)"
   ]
  },
  {
   "cell_type": "code",
   "execution_count": null,
   "id": "e5c294b6",
   "metadata": {},
   "outputs": [],
   "source": [
    "bruno_perturb_trajectory = get_gaze_location(bruno_perturb_trajectory)"
   ]
  },
  {
   "cell_type": "code",
   "execution_count": null,
   "id": "d352e0d1",
   "metadata": {},
   "outputs": [
    {
     "data": {
      "text/html": [
       "<div>\n",
       "<style scoped>\n",
       "    .dataframe tbody tr th:only-of-type {\n",
       "        vertical-align: middle;\n",
       "    }\n",
       "\n",
       "    .dataframe tbody tr th {\n",
       "        vertical-align: top;\n",
       "    }\n",
       "\n",
       "    .dataframe thead th {\n",
       "        text-align: right;\n",
       "    }\n",
       "</style>\n",
       "<table border=\"1\" class=\"dataframe\">\n",
       "  <thead>\n",
       "    <tr style=\"text-align: right;\">\n",
       "      <th></th>\n",
       "      <th>gain_v</th>\n",
       "      <th>gain_w</th>\n",
       "      <th>perturb_vpeakmax</th>\n",
       "      <th>perturb_wpeakmax</th>\n",
       "      <th>perturb_sigma</th>\n",
       "      <th>perturb_dur</th>\n",
       "      <th>perturb_vpeak</th>\n",
       "      <th>perturb_wpeak</th>\n",
       "      <th>perturb_start_time</th>\n",
       "      <th>perturb_start_time_ori</th>\n",
       "      <th>...</th>\n",
       "      <th>action_w</th>\n",
       "      <th>relative_radius_end</th>\n",
       "      <th>relative_angle_end</th>\n",
       "      <th>category</th>\n",
       "      <th>eye_ver</th>\n",
       "      <th>eye_hor</th>\n",
       "      <th>gaze_x</th>\n",
       "      <th>gaze_y</th>\n",
       "      <th>target_xs</th>\n",
       "      <th>target_ys</th>\n",
       "    </tr>\n",
       "  </thead>\n",
       "  <tbody>\n",
       "  </tbody>\n",
       "</table>\n",
       "<p>0 rows × 46 columns</p>\n",
       "</div>"
      ],
      "text/plain": [
       "Empty DataFrame\n",
       "Columns: [gain_v, gain_w, perturb_vpeakmax, perturb_wpeakmax, perturb_sigma, perturb_dur, perturb_vpeak, perturb_wpeak, perturb_start_time, perturb_start_time_ori, perturb_v_gauss, perturb_w_gauss, perturb_v, perturb_w, floor_density, pos_x, pos_y, head_dir, head_dir_end, pos_r, pos_theta, pos_r_end, pos_theta_end, pos_v, pos_w, target_x, target_y, target_r, target_theta, full_on, rewarded, relative_radius, relative_angle, time, trial_dur, action_v, action_w, relative_radius_end, relative_angle_end, category, eye_ver, eye_hor, gaze_x, gaze_y, target_xs, target_ys]\n",
       "Index: []\n",
       "\n",
       "[0 rows x 46 columns]"
      ]
     },
     "execution_count": 17,
     "metadata": {},
     "output_type": "execute_result"
    }
   ],
   "source": [
    "bruno_perturb_trajectory"
   ]
  },
  {
   "cell_type": "code",
   "execution_count": null,
   "id": "646394a3",
   "metadata": {},
   "outputs": [],
   "source": []
  },
  {
   "cell_type": "code",
   "execution_count": null,
   "id": "3e989767",
   "metadata": {},
   "outputs": [],
   "source": []
  }
 ],
 "metadata": {
  "kernelspec": {
   "display_name": "Python 3",
   "language": "python",
   "name": "python3"
  },
  "language_info": {
   "codemirror_mode": {
    "name": "ipython",
    "version": 3
   },
   "file_extension": ".py",
   "mimetype": "text/x-python",
   "name": "python",
   "nbconvert_exporter": "python",
   "pygments_lexer": "ipython3",
   "version": "3.7.6"
  },
  "vscode": {
   "interpreter": {
    "hash": "949777d72b0d2535278d3dc13498b2535136f6dfe0678499012e853ee9abcab1"
   }
  }
 },
 "nbformat": 4,
 "nbformat_minor": 5
}
