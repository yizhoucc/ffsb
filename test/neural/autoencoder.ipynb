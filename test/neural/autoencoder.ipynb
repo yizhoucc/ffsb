{
 "cells": [
  {
   "cell_type": "markdown",
   "metadata": {},
   "source": [
    "# auto encoder"
   ]
  },
  {
   "cell_type": "markdown",
   "metadata": {},
   "source": [
    "## example auto encoder for analyzsing neural actvities."
   ]
  },
  {
   "cell_type": "code",
   "execution_count": 12,
   "metadata": {},
   "outputs": [],
   "source": [
    "import torch\n",
    "from torch import nn, optim\n",
    "from torch.autograd import Variable\n",
    "from torchvision import transforms, datasets\n",
    "from torch.utils.data import DataLoader\n",
    "from torchvision.utils import save_image\n",
    "import os\n",
    "import matplotlib.pyplot as plt\n"
   ]
  },
  {
   "cell_type": "code",
   "execution_count": 13,
   "metadata": {},
   "outputs": [],
   "source": [
    "class autoencoder(nn.Module):\n",
    "    def __init__(self, ninput, noutput):\n",
    "        # this is a customized autoencoder\n",
    "        # n input features and n output features.\n",
    "        super(autoencoder, self).__init__()\n",
    "        self.encoder = nn.Sequential(nn.Linear(ninput, 128),\n",
    "                                     nn.ReLU(True),\n",
    "                                     nn.Linear(128, 64),\n",
    "                                     nn.ReLU(True),\n",
    "                                     nn.Linear(64, 12),\n",
    "                                     nn.ReLU(True),\n",
    "                                     nn.Linear(12, 3))\n",
    "        self.decoder = nn.Sequential(nn.Linear(3, 12),\n",
    "                                     nn.ReLU(True),\n",
    "                                     nn.Linear(12, 64),\n",
    "                                     nn.ReLU(True),\n",
    "                                     nn.Linear(64, 128),\n",
    "                                     nn.ReLU(True),\n",
    "                                     nn.Linear(128, noutput),\n",
    "                                     nn.Tanh())\n",
    "    def forward(self, x):\n",
    "        encode = self.encoder(x)\n",
    "        decode = self.decoder(encode)\n",
    "        return encode, decode"
   ]
  },
  {
   "cell_type": "code",
   "execution_count": 14,
   "metadata": {},
   "outputs": [],
   "source": [
    "\n",
    "def get_data(batch_size = 128):\n",
    "    # 将像素点转换到[-1, 1]之间，使得输入变成一个比较对称的分布，训练容易收敛\n",
    "    data_tf = transforms.Compose([transforms.ToTensor(), transforms.Normalize([0.5], [0.5])])\n",
    "    train_dataset = datasets.MNIST(root='./data', train=True, transform=data_tf, download=True)\n",
    "    train_loader = DataLoader(train_dataset, shuffle=True, batch_size=batch_size, drop_last=True)\n",
    "    return train_loader\n",
    "\n",
    "def to_img(x):\n",
    "    x = (x + 1.) * 0.5\n",
    "    x = x.clamp(0, 1)\n",
    "    x = x.view(x.size(0), 1, 28, 28)\n",
    "    return x\n",
    "\n"
   ]
  },
  {
   "cell_type": "code",
   "execution_count": 19,
   "metadata": {},
   "outputs": [
    {
     "name": "stdout",
     "output_type": "stream",
     "text": [
      "epoch= 0 tensor(0.1622, device='cuda:0')\n",
      "0.01\n"
     ]
    }
   ],
   "source": [
    "# 超参数设置\n",
    "batch_size = 128\n",
    "lr = 1e-2\n",
    "weight_decay = 1e-5\n",
    "epoches = 1\n",
    "model = autoencoder(28*28, 28*28)\n",
    "# x = Variable(torch.randn(1, 28*28))\n",
    "# encode, decode = model(x)\n",
    "# print(encode.shape)\n",
    "train_data = get_data()\n",
    "criterion = nn.MSELoss()\n",
    "optimizier = optim.Adam(model.parameters(), lr=lr, weight_decay=weight_decay)\n",
    "if torch.cuda.is_available():\n",
    "    model.cuda()\n",
    "for epoch in range(epoches):\n",
    "    if epoch in [epoches * 0.25, epoches * 0.5]:\n",
    "        for param_group in optimizier.param_groups:\n",
    "            param_group['lr'] *= 0.1\n",
    "    for img, _ in train_data:\n",
    "        img = img.view(img.size(0), -1)\n",
    "        img = Variable(img.cuda())\n",
    "        # forward\n",
    "        _, output = model(img)\n",
    "        loss = criterion(output, img)\n",
    "        # backward\n",
    "        optimizier.zero_grad()\n",
    "        loss.backward()\n",
    "        optimizier.step()\n",
    "    print(\"epoch=\", epoch, loss.data.float())\n",
    "    for param_group in optimizier.param_groups:\n",
    "        print(param_group['lr'])\n",
    "    if (epoch+1) % 5 == 0:\n",
    "        print(\"epoch: {}, loss is {}\".format((epoch+1), loss.data))\n",
    "        pic = to_img(output.cpu().data)\n",
    "        if not os.path.exists('./simple_autoencoder'):\n",
    "            os.mkdir('./trash')\n",
    "        # save_image(pic, './trash/image_{}.png'.format(epoch + 1))\n",
    "# torch.save(model, './autoencoder.pth')\n",
    "# model = torch.load('./autoencoder.pth')\n"
   ]
  },
  {
   "cell_type": "code",
   "execution_count": 27,
   "metadata": {},
   "outputs": [
    {
     "data": {
      "text/plain": [
       "torch.Size([128, 784])"
      ]
     },
     "execution_count": 27,
     "metadata": {},
     "output_type": "execute_result"
    }
   ],
   "source": [
    "img.shape"
   ]
  },
  {
   "cell_type": "code",
   "execution_count": 24,
   "metadata": {},
   "outputs": [
    {
     "data": {
      "text/plain": [
       "<matplotlib.image.AxesImage at 0x2e243656888>"
      ]
     },
     "execution_count": 24,
     "metadata": {},
     "output_type": "execute_result"
    },
    {
     "data": {
      "image/png": "[encoded data removed]",
      "text/plain": [
       "<Figure size 432x288 with 1 Axes>"
      ]
     },
     "metadata": {
      "needs_background": "light"
     },
     "output_type": "display_data"
    }
   ],
   "source": [
    "plt.imshow((img.data.cpu().numpy() * 255).astype('uint8'), cmap='gray')"
   ]
  },
  {
   "cell_type": "code",
   "execution_count": 25,
   "metadata": {},
   "outputs": [
    {
     "data": {
      "image/png": "[encoded data removed]",
      "text/plain": [
       "<Figure size 432x288 with 1 Axes>"
      ]
     },
     "metadata": {
      "needs_background": "light"
     },
     "output_type": "display_data"
    }
   ],
   "source": [
    "code = Variable(torch.FloatTensor([[1.19, -3.36, 2.06]]).cuda())\n",
    "decode = model.decoder(code)\n",
    "decode_img = to_img(decode).squeeze()\n",
    "decode_img = decode_img.data.cpu().numpy() * 255\n",
    "plt.imshow(decode_img.astype('uint8'), cmap='gray')\n",
    "plt.show()"
   ]
  },
  {
   "cell_type": "code",
   "execution_count": 26,
   "metadata": {},
   "outputs": [
    {
     "data": {
      "text/plain": [
       "(28, 28)"
      ]
     },
     "execution_count": 26,
     "metadata": {},
     "output_type": "execute_result"
    }
   ],
   "source": [
    "decode_img.shape"
   ]
  },
  {
   "cell_type": "code",
   "execution_count": 81,
   "metadata": {},
   "outputs": [
    {
     "name": "stdout",
     "output_type": "stream",
     "text": [
      "Total Parameters: 1577501\n"
     ]
    }
   ],
   "source": [
    "# transformer test\n",
    "\n",
    "\n",
    "import torch\n",
    "import torch.nn as nn\n",
    "import numpy as np\n",
    "\n",
    "class Transformer(nn.Module):\n",
    "    def __init__(self, input_size, hidden_size, num_layers, num_heads):\n",
    "        super(Transformer, self).__init__()\n",
    "        self.encoder_layers = nn.TransformerEncoderLayer(d_model=input_size, nhead=num_heads)\n",
    "        self.transformer_encoder = nn.TransformerEncoder(self.encoder_layers, num_layers=num_layers)\n",
    "        self.linear = nn.Linear(input_size, hidden_size)\n",
    "\n",
    "    def forward(self, x):\n",
    "        x = self.transformer_encoder(x)\n",
    "        x = self.linear(x)\n",
    "        return x\n",
    "\n",
    "# Define model parameters\n",
    "input_size = 88\n",
    "hidden_size = 5\n",
    "num_layers = 3\n",
    "num_heads = 8\n",
    "\n",
    "# Create an instance of the transformer model\n",
    "model = Transformer(input_size, hidden_size, num_layers, num_heads)\n",
    "\n",
    "# Calculate the total number of parameters in the model\n",
    "total_params = sum(p.numel() for p in model.parameters() if p.requires_grad)\n",
    "print(\"Total Parameters:\", total_params)\n"
   ]
  },
  {
   "cell_type": "code",
   "execution_count": 91,
   "metadata": {},
   "outputs": [
    {
     "name": "stdout",
     "output_type": "stream",
     "text": [
      "Shape of hidden states for the first token: torch.Size([1, 8])\n"
     ]
    }
   ],
   "source": [
    "# bert\n",
    "\n",
    "import torch\n",
    "from transformers import BertModel, BertTokenizer, BertConfig\n",
    "\n",
    "# Define model parameters\n",
    "input_size = 512\n",
    "hidden_size = 8\n",
    "num_layers = 6\n",
    "num_heads = 8\n",
    "\n",
    "# Define BERT configuration\n",
    "config = BertConfig(\n",
    "    vocab_size=30522,  # Default vocabulary size for BERT-base\n",
    "    hidden_size=hidden_size,\n",
    "    num_hidden_layers=num_layers,\n",
    "    num_attention_heads=num_heads,\n",
    "    intermediate_size=hidden_size * 4,  # Typically 4 times the hidden size\n",
    "    max_position_embeddings=input_size\n",
    ")\n",
    "\n",
    "# Load pre-trained BERT model with custom configuration\n",
    "model = BertModel(config)\n",
    "\n",
    "# Initialize BERT tokenizer\n",
    "tokenizer = BertTokenizer.from_pretrained('bert-base-uncased')\n",
    "\n",
    "# Example input text\n",
    "text = \"Hello, how are you doing todayasdfasdfasdf asdfasdf?\"\n",
    "\n",
    "# Tokenize input text\n",
    "tokens = tokenizer.encode_plus(text, return_tensors=\"pt\")\n",
    "\n",
    "# Forward pass through BERT model\n",
    "outputs = model(**tokens)\n",
    "\n",
    "# Get the hidden states from BERT\n",
    "hidden_states = outputs.last_hidden_state\n",
    "\n",
    "# Retrieve the hidden states for the first token ([CLS] token)\n",
    "first_token_hidden_states = hidden_states[:, 0, :]\n",
    "\n",
    "# Print the shape of hidden states for the first token\n",
    "print(\"Shape of hidden states for the first token:\", first_token_hidden_states.shape)\n",
    "\n",
    "# Print the hidden states for the first token\n",
    "# print(\"Hidden states for the first token:\", first_token_hidden_states)\n"
   ]
  },
  {
   "cell_type": "code",
   "execution_count": 126,
   "metadata": {},
   "outputs": [
    {
     "name": "stdout",
     "output_type": "stream",
     "text": [
      "Total Parameters: 7228\n",
      "\n",
      "input (batch, seqlen, feature)\n",
      " torch.Size([32, 27, 13])\n",
      "\n",
      "latent (batch, seqlen, hidden)  \n",
      " torch.Size([32, 27, 16])\n",
      "\n",
      "hidden state, cell state (layer, seqlen, hidden)\n",
      " torch.Size([2, 27, 16]) torch.Size([2, 27, 16])\n",
      "\n",
      " out (batch, seqlen, feature)\n",
      " torch.Size([32, 27, 13])\n"
     ]
    }
   ],
   "source": [
    "# seq seq ae\n",
    "\n",
    "class Seq2SeqAutoencoder(nn.Module):\n",
    "    def __init__(self, input_size, hidden_size, num_layers):\n",
    "        super(Seq2SeqAutoencoder, self).__init__()\n",
    "        self.encoder = nn.LSTM(input_size, hidden_size, num_layers)\n",
    "        self.decoder = nn.LSTM(hidden_size, input_size, num_layers, batch_first=True)\n",
    "        \n",
    "    def forward(self, x, reset_indices):\n",
    "        # Encoding phase\n",
    "        print('x', x.shape)\n",
    "        _, (hidden, cell) = self.encoder(x)\n",
    "        print('hidden', hidden.shape)\n",
    "        print('cell', cell.shape)\n",
    "        # Decoding phase\n",
    "        output = []\n",
    "        for i in range(x.size(0)):\n",
    "            if i in reset_indices:\n",
    "                hidden = torch.zeros_like(hidden)  # Reset hidden state\n",
    "            out, (hidden, cell) = self.decoder(x[i:i+1], (hidden, cell))\n",
    "            output.append(out)\n",
    "        print(output)\n",
    "        output = torch.cat(output, dim=0)\n",
    "        return output\n",
    "\n",
    "# Example parameters\n",
    "input_size = 13\n",
    "hidden_size = 16\n",
    "num_layers = 2\n",
    "batch_size = 32\n",
    "num_epochs = 10\n",
    "learning_rate = 0.001\n",
    "sequence_length = 27\n",
    "\n",
    "# Initialize model, loss function, and optimizer\n",
    "model = Seq2SeqAutoencoder(input_size, hidden_size, num_layers)\n",
    "\n",
    "total_params = sum(p.numel() for p in model.parameters() if p.requires_grad)\n",
    "print(\"Total Parameters:\", total_params)\n",
    "\n",
    "input=torch.rand(32,27,13)\n",
    "print('\\ninput (batch, seqlen, feature)\\n', input.shape)\n",
    "latent=model.encoder(input)\n",
    "print('\\nlatent (batch, seqlen, hidden)  \\n', latent[0].shape)\n",
    "print('\\nhidden state, cell state (layer, seqlen, hidden)\\n', latent[1][0].shape, latent[1][1].shape)\n",
    "latent, (eh,ec)=model.encoder(input) # here the h and c are encoder hidden and cell state\n",
    "# (seqlen, batch, latent)\n",
    "out, (de,dc)=model.decoder(latent)\n",
    "print('\\n out (batch, seqlen, feature)\\n', out.shape)"
   ]
  },
  {
   "cell_type": "code",
   "execution_count": 142,
   "metadata": {},
   "outputs": [
    {
     "name": "stdout",
     "output_type": "stream",
     "text": [
      "\n",
      "input (batch, seqlen, feature)\n",
      " torch.Size([32, 27, 13])\n",
      "\n",
      " output (batch, seqlen, feature)\n",
      " torch.Size([32, 27, 13])\n",
      "Total Parameters: 8733\n"
     ]
    }
   ],
   "source": [
    "import torch\n",
    "import torch.nn as nn\n",
    "\n",
    "class LSTMEncoderDecoder(nn.Module):\n",
    "    def __init__(self, input_dim, hidden_dim, output_dim, num_layers=2, dropout=0.):\n",
    "        super(LSTMEncoderDecoder, self).__init__()\n",
    "        self.hidden_dim = hidden_dim\n",
    "        self.encoder = nn.LSTM(input_dim, hidden_dim, num_layers, batch_first=True, dropout=dropout)\n",
    "        self.decoder = nn.LSTM(hidden_dim, hidden_dim, num_layers, batch_first=True, dropout=dropout)\n",
    "        self.linear = nn.Linear(hidden_dim, output_dim)\n",
    "        self.num_layers=num_layers\n",
    "\n",
    "    def forward(self, input_seq, max_len):\n",
    "        batch_size = input_seq.size(0)\n",
    "        \n",
    "        # Initialize hidden and cell states for encoder and decoder\n",
    "        hidden_encoder = torch.zeros(self.num_layers, batch_size, self.hidden_dim).to(input_seq.device)\n",
    "        cell_encoder = torch.zeros(self.num_layers, batch_size, self.hidden_dim).to(input_seq.device)\n",
    "        \n",
    "        hidden_decoder = hidden_encoder.clone()  # Initialize decoder hidden state with encoder's last hidden state\n",
    "        cell_decoder = cell_encoder.clone()  # Initialize decoder cell state with encoder's last cell state\n",
    "        \n",
    "        # Encoder forward pass\n",
    "        _, (hidden_encoder, cell_encoder) = self.encoder(input_seq, (hidden_encoder, cell_encoder))\n",
    "        \n",
    "        # Initialize decoder input with zeros\n",
    "        decoder_input = torch.zeros(batch_size, 1, self.hidden_dim).to(input_seq.device)\n",
    "        \n",
    "        # Output sequence tensor\n",
    "        output_seq = torch.zeros(batch_size, max_len, self.linear.out_features).to(input_seq.device)\n",
    "        \n",
    "        # Decoder forward pass\n",
    "        for t in range(max_len):\n",
    "            decoder_output, (hidden_decoder, cell_decoder) = self.decoder(decoder_input, (hidden_decoder, cell_decoder))\n",
    "            output = self.linear(decoder_output.squeeze(1))\n",
    "            output_seq[:, t, :] = output\n",
    "            decoder_input = decoder_output  # Use output as input for the next time step\n",
    "        \n",
    "        output_seq = output_seq.flip(1)\n",
    "        return output_seq\n",
    "\n",
    "# Example usage\n",
    "input_dim = 13\n",
    "hidden_dim = 16\n",
    "output_dim = input_dim\n",
    "max_len = 27\n",
    "batch_size=32\n",
    "model = LSTMEncoderDecoder(input_dim, hidden_dim, output_dim)\n",
    "input_seq = torch.randn(batch_size, max_len, input_dim)  # Example input sequence\n",
    "print('\\ninput (batch, seqlen, feature)\\n', input_seq.shape)\n",
    "\n",
    "output_seq = model(input_seq, max_len)\n",
    "print('\\n output (batch, seqlen, feature)\\n', output_seq.shape)\n",
    "\n",
    "\n",
    "total_params = sum(p.numel() for p in model.parameters() if p.requires_grad)\n",
    "print(\"Total Parameters:\", total_params)\n"
   ]
  }
 ],
 "metadata": {
  "kernelspec": {
   "display_name": "Python (lab)",
   "language": "python",
   "name": "myenv"
  }
 },
 "nbformat": 4,
 "nbformat_minor": 2
}
