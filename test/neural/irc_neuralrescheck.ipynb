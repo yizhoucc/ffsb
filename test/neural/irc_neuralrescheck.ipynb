{
 "cells": [
  {
   "cell_type": "code",
   "execution_count": 1,
   "metadata": {},
   "outputs": [
    {
     "name": "stdout",
     "output_type": "stream",
     "text": [
      "/workspaces/ffsb\n"
     ]
    }
   ],
   "source": [
    "# imports \n",
    "\n",
    "from sklearn.metrics import mean_squared_error, r2_score\n",
    "from sklearn import linear_model\n",
    "import numpy as np\n",
    "import pickle\n",
    "from pathlib import Path\n",
    "import os\n",
    "import sys\n",
    "sys.path.append('.')\n",
    "sys.path.append('..')\n",
    "sys.path.append('../..')\n",
    "os.chdir('../..')\n",
    "print(os.getcwd())\n",
    "import random"
   ]
  },
  {
   "cell_type": "code",
   "execution_count": 2,
   "metadata": {},
   "outputs": [],
   "source": [
    "# laod data and process \n",
    "\n",
    "# load belief and neural data -------------------\n",
    "resdir = '/data/neuraltest/res'\n",
    "resdir = Path(resdir)\n",
    "\n",
    "\n",
    "with open(resdir/'0202collapsemodelbelief', 'rb') as f:\n",
    "    res = pickle.load(f)\n",
    "\n",
    "\n",
    "y = res['y']\n",
    "X = {k: res[k] for k in ['rad_vel', 'ang_vel', 'x_monk', 'y_monk']}\n",
    "trial_idx = res['trial_idx']\n",
    "beliefs = res['belief']\n",
    "covs = res['cov']\n",
    "\n",
    "\n",
    "# process ----------------------------------\n",
    "b = beliefs\n",
    "s = np.vstack([v for v in X.values()])\n",
    "s[np.isnan(s) == True] = 0\n",
    "\n",
    "# reshape into ntimepoint, nfeat shape.\n",
    "s = s.T # state\n",
    "y = y.T # neural \n",
    "b = b.T # belief\n",
    "\n",
    "\n"
   ]
  },
  {
   "cell_type": "code",
   "execution_count": 6,
   "metadata": {},
   "outputs": [
    {
     "data": {
      "text/plain": [
       "((12027, 4), (12027, 5), (12027, 140), (12027, 5, 5))"
      ]
     },
     "execution_count": 6,
     "metadata": {},
     "output_type": "execute_result"
    }
   ],
   "source": [
    "s.shape, b.shape, y.shape, covs.shape"
   ]
  },
  {
   "cell_type": "code",
   "execution_count": null,
   "metadata": {},
   "outputs": [],
   "source": []
  }
 ],
 "metadata": {
  "kernelspec": {
   "display_name": "Python 3",
   "language": "python",
   "name": "python3"
  },
  "language_info": {
   "codemirror_mode": {
    "name": "ipython",
    "version": 3
   },
   "file_extension": ".py",
   "mimetype": "text/x-python",
   "name": "python",
   "nbconvert_exporter": "python",
   "pygments_lexer": "ipython3",
   "version": "3.7.6"
  },
  "orig_nbformat": 4
 },
 "nbformat": 4,
 "nbformat_minor": 2
}
