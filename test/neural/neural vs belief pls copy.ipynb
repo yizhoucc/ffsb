{
 "cells": [
  {
   "cell_type": "markdown",
   "metadata": {},
   "source": [
    "# IRC belief to neural data \n",
    "\n",
    "Using IRC, we infered monkey's belief from their behavior.\n",
    "We can then fit the neural acitivty to the behavioral inferred belief, to see the benifit of using IRC.\n"
   ]
  },
  {
   "cell_type": "code",
   "execution_count": 1,
   "metadata": {},
   "outputs": [],
   "source": [
    "# imports\n",
    "import sys\n",
    "import os\n",
    "from pathlib import Path\n",
    "import configparser\n",
    "config = configparser.ConfigParser()\n",
    "config.read_file(open('../../privateconfig'))\n",
    "resdir=Path(config['Datafolder']['data'])\n",
    "workdir=Path(config['Codefolder']['workspace'])\n"
   ]
  },
  {
   "cell_type": "code",
   "execution_count": 2,
   "metadata": {},
   "outputs": [],
   "source": [
    "sys.path.append(os.path.abspath(workdir))\n",
    "sys.path.append(os.path.abspath(workdir/'test'))\n",
    "# os.chdir(workdir/'test/neural')\n",
    "os.chdir(workdir)\n"
   ]
  },
  {
   "cell_type": "code",
   "execution_count": 3,
   "metadata": {},
   "outputs": [
    {
     "name": "stderr",
     "output_type": "stream",
     "text": [
      "c:\\Users\\24455\\miniconda3\\envs\\lab\\lib\\site-packages\\numpy\\_distributor_init.py:32: UserWarning: loaded more than 1 DLL from .libs:\n",
      "c:\\Users\\24455\\miniconda3\\envs\\lab\\lib\\site-packages\\numpy\\.libs\\libopenblas.PYQHXLVVQ7VESDPUVUADXEVJOBGHJPAY.gfortran-win_amd64.dll\n",
      "c:\\Users\\24455\\miniconda3\\envs\\lab\\lib\\site-packages\\numpy\\.libs\\libopenblas.XWYDX2IKJW2NMTWSFYNGFUWKQU3LYTCZ.gfortran-win_amd64.dll\n",
      "  stacklevel=1)\n"
     ]
    }
   ],
   "source": [
    "\n",
    "from sklearn.model_selection import cross_val_predict, cross_val_score\n",
    "import numpy as np\n",
    "import torch\n",
    "from sklearn.cross_decomposition import CCA\n",
    "from numpy import pi\n",
    "from matplotlib import pyplot as plt\n",
    "from firefly_utils.data_handler import data_handler\n",
    "from firefly_utils.spike_times_class import spike_counts\n",
    "from firefly_utils.behav_class import *\n",
    "from firefly_utils.lfp_class import lfp_class\n",
    "from copy import deepcopy\n",
    "from datetime import datetime\n",
    "from scipy.interpolate import interp1d\n",
    "from scipy.io import loadmat\n",
    "import pickle\n",
    "import pandas as pd\n",
    "from numpy.lib.npyio import save\n",
    "from cmaes import CMA\n",
    "import copy\n",
    "import matplotlib.pyplot as plt\n",
    "import warnings\n",
    "import heapq\n",
    "from torch.distributions.multivariate_normal import MultivariateNormal\n",
    "import time\n",
    "from stable_baselines3 import TD3\n",
    "from InverseFuncs import *\n",
    "from monkey_functions import *\n",
    "from firefly_task import ffacc_real\n",
    "from env_config import Config\n",
    "from notification import notify\n",
    "from pathlib import Path\n",
    "from sklearn import linear_model\n",
    "from plot_ult import *\n",
    "from sklearn.metrics import mean_squared_error, r2_score\n",
    "import random\n",
    "import scipy.interpolate as interpolate\n",
    "from sklearn.linear_model import Ridge\n",
    "from sklearn.model_selection import GridSearchCV\n",
    "from scipy.stats import pearsonr\n",
    "from sklearn.model_selection import GridSearchCV\n"
   ]
  },
  {
   "cell_type": "markdown",
   "metadata": {},
   "source": [
    "## Load neural data (.mat file) and behaviral data (from IRC)\n",
    "the neural data file also has some behaivral data, such as current velocity.\n",
    "we can use this as a sanity check to making sure things are right."
   ]
  },
  {
   "cell_type": "code",
   "execution_count": 22,
   "metadata": {},
   "outputs": [
    {
     "name": "stdout",
     "output_type": "stream",
     "text": [
      "unable to extract pairs, different blocks number\n",
      "no eyetracking...\n",
      "no normalized t_ptb (t_ptbn)\n",
      "['all', 'reward', 'density', 'ptb', 'microstim', 'landmark', 'replay', 'controlgain', 'firefly_fullON']\n",
      "Succesfully set filter\n",
      "number of trial: 700, \n",
      "session success rate is  0.5642857142857143\n"
     ]
    }
   ],
   "source": [
    "# load neural data\n",
    "\n",
    "dat = loadmat(resdir/'neuraltest/m53s31.mat') # this is a example session with good recording, more neurons\n",
    "# dat = loadmat(resdir/'neural/m53s36.mat') # this is a pert example\n",
    "\n",
    "\n",
    "behav_stat_key = 'behv_stats'\n",
    "spike_key = 'units'\n",
    "behav_dat_key = 'trials_behv'\n",
    "lfp_key = 'lfps'\n",
    "\n",
    "pre_trial_dur = 0.5\n",
    "post_trial_dur = 0.5\n",
    "exp_data = data_handler(dat, behav_dat_key, spike_key, lfp_key, \n",
    "                        behav_stat_key, pre_trial_dur=pre_trial_dur,             extract_fly_and_monkey_xy=True,\n",
    "                        post_trial_dur=post_trial_dur,extract_cartesian_eye_and_firefly=True,\n",
    "                        lfp_beta=None, lfp_alpha=None, extract_lfp_phase=True)\n",
    "# list(exp_data.behav.continuous.__dict__.keys())\n",
    "exp_data.set_filters('all', True)\n",
    "ts = exp_data.rebin_time_stamps(0.1)\n",
    "t_targ=dict_to_vec(exp_data.behav.events.t_targ)\n",
    "t_start=t_targ\n",
    "t_stop = dict_to_vec(exp_data.behav.events.t_stop)\n",
    "var_names = 'rad_vel','ang_vel','x_monk','y_monk', 'eye_hori', 'eye_vert','x_fly_screen','z_fly_screen','x_eye_screen','z_eye_screen',\"x_fly_rel\",\"y_fly_rel\",\"ang_vel\"\n",
    "y,X,trial_idx = exp_data.concatenate_inputs(*var_names,t_start=t_start,t_stop=t_stop, time_stamps=ts)\n",
    "\n",
    "trials=np.unique(trial_idx)\n",
    "yes=0\n",
    "total=0\n",
    "for itrial in range(len(trials)):\n",
    "    if len(X['x_fly_rel'][trial_idx==trials[itrial]])<1:\n",
    "        continue\n",
    "    d=(X['x_fly_rel'][trial_idx==trials[itrial]][-1]**2 + X['y_fly_rel'][trial_idx==trials[itrial]][-1]**2)**0.5\n",
    "    if d < 65: yes+=1\n",
    "    total+=1\n",
    "print(f'number of trial: {len(trials)}, \\nsession success rate is ', yes/total)\n",
    "\n",
    "\n",
    "brainarea=dat['units']['brain_area']"
   ]
  },
  {
   "cell_type": "code",
   "execution_count": 23,
   "metadata": {},
   "outputs": [
    {
     "data": {
      "text/plain": [
       "((12041,), (140, 12041))"
      ]
     },
     "execution_count": 23,
     "metadata": {},
     "output_type": "execute_result"
    }
   ],
   "source": [
    "trial_idx.shape, y.shape"
   ]
  },
  {
   "cell_type": "code",
   "execution_count": 24,
   "metadata": {},
   "outputs": [],
   "source": [
    "# load behavioral data\n",
    "\n",
    "with open(resdir/'neuraltest/res/m53s31_0223newformatbelief', 'rb') as f:\n",
    "    res = pickle.load(f)\n",
    "\n",
    "y_ = res['y']\n",
    "Xmat=X\n",
    "X = {k: res[k] for k in ['rad_vel', 'ang_vel', 'x_monk', 'y_monk']}\n",
    "trial_idx = res['trial_idx']\n",
    "beliefs = res['belief']\n",
    "covs = res['covs']\n",
    "s = np.vstack([v for v in X.values()])\n",
    "s = s.T\n"
   ]
  },
  {
   "cell_type": "code",
   "execution_count": 26,
   "metadata": {},
   "outputs": [
    {
     "data": {
      "text/plain": [
       "((11331, 140), (11331,))"
      ]
     },
     "execution_count": 26,
     "metadata": {},
     "output_type": "execute_result"
    }
   ],
   "source": [
    "y_.shape, trial_idx.shape"
   ]
  },
  {
   "cell_type": "code",
   "execution_count": 6,
   "metadata": {},
   "outputs": [],
   "source": [
    "# use b-spline to process neural data\n",
    "\n",
    "kernel_len = 7  # should be about +- 325ms\n",
    "knots = np.hstack(([-1.001]*3, np.linspace(-1.001, 1.001, 5), [1.001]*3))\n",
    "tp = np.linspace(-1., 1., kernel_len)\n",
    "bX = splineDesign(knots, tp, ord=4, der=0, outer_ok=False)\n",
    "\n",
    "# with initiate_plot(3, 2, 200) as f:\n",
    "#     ax = f.add_subplot(111)\n",
    "#     plt.plot(bX)\n",
    "#     plt.title('B-spline kernel')\n",
    "#     quickspine(ax)\n",
    "#     plt.xticks([0, kernel_len-1])\n",
    "#     ax.set_xticklabels([-kernel_len*50, kernel_len*50])\n",
    "#     plt.xlabel('time, ms')\n",
    "#     plt.ylabel('coef')\n",
    "\n",
    "\n",
    "with suppress():\n",
    "    modelX = convolve_loop(y_.T, trial_idx, bX)  # ts, neurons\n",
    "pos_xy = np.hstack((X['x_monk'].reshape(-1, 1),\n",
    "                   X['y_monk'].reshape(-1, 1)))  # ts, xy\n",
    "# remove bad data\n",
    "non_nan = ~np.isnan(pos_xy.sum(axis=1))\n",
    "modelX = modelX[non_nan]\n",
    "pos_xy = pos_xy[non_nan]\n",
    "belief_xy = beliefs[:, [0, 1]][non_nan]"
   ]
  },
  {
   "cell_type": "code",
   "execution_count": 7,
   "metadata": {},
   "outputs": [],
   "source": [
    "# calculate relative beliefs and states\n",
    "\n",
    "states_rel, belief_rel = [], []\n",
    "for itrial in range(len(trials)):\n",
    "    xr, yr = world2mk(X['x_monk'][trial_idx == trials[itrial]], X['y_monk'][trial_idx == trials[itrial]], X['ang_vel'][trial_idx ==\n",
    "                      trials[itrial]], exp_data.behav.continuous.x_fly[trials[itrial]], exp_data.behav.continuous.y_fly[trials[itrial]])\n",
    "    states_rel.append(np.vstack([xr, yr]))\n",
    "\n",
    "    xr, yr = world2mk(beliefs[trial_idx == trials[itrial]][:, 0], beliefs[trial_idx == trials[itrial]][:, 1], X['ang_vel']\n",
    "                      [trial_idx == trials[itrial]], exp_data.behav.continuous.x_fly[trials[itrial]], exp_data.behav.continuous.y_fly[trials[itrial]])\n",
    "    belief_rel.append(np.vstack([xr, yr]))\n",
    "\n",
    "states_rel = np.hstack(states_rel).T\n",
    "belief_rel = np.hstack(belief_rel).T"
   ]
  },
  {
   "cell_type": "code",
   "execution_count": 8,
   "metadata": {},
   "outputs": [
    {
     "data": {
      "text/plain": [
       "(11331, 2, 2)"
      ]
     },
     "execution_count": 8,
     "metadata": {},
     "output_type": "execute_result"
    }
   ],
   "source": [
    "# calculate the relative cov (rotate ccw 180+heading from mid degree)\n",
    "\n",
    "belief_heading = beliefs[:,2][non_nan]\n",
    "rotdegree=belief_heading+180\n",
    "relativeposcov=[]\n",
    "for degree, thiscov in zip(rotdegree, covs):\n",
    "    R=np.array([[np.cos(-degree/180*pi),-np.sin(-degree/180*pi)],[np.sin(-degree/180*pi),np.cos(-degree/180*pi)]])\n",
    "    relativeposcov.append(R.T@thiscov[:2,:2]@R)\n",
    "relativeposcov=np.stack(relativeposcov)\n",
    "relativeposcov.shape\n"
   ]
  },
  {
   "cell_type": "code",
   "execution_count": 9,
   "metadata": {},
   "outputs": [],
   "source": [
    "# uncertainty var and std from cov.\n",
    "\n",
    "uncertainty_var=[c[:2,:2].flatten()[[0,3]] for c in relativeposcov]\n",
    "uncertainty_var=np.array(uncertainty_var)\n",
    "uncertainty_std=np.power(uncertainty_var, 0.5)[:,]\n",
    "\n"
   ]
  },
  {
   "cell_type": "code",
   "execution_count": 10,
   "metadata": {},
   "outputs": [],
   "source": [
    "# time\n",
    "\n",
    "trialtime=[]\n",
    "fulltime=np.arange(0,7,0.1)\n",
    "for itrial in range(len(trials)):\n",
    "    thistime=len(X['x_monk'][trial_idx==trials[itrial]])\n",
    "    trialtime.append(fulltime[:thistime])\n",
    "trialtime=np.hstack(trialtime).T\n",
    "\n",
    "trialtime=trialtime.reshape(-1,1)"
   ]
  },
  {
   "cell_type": "code",
   "execution_count": 11,
   "metadata": {},
   "outputs": [],
   "source": [
    "# cumulative distance traveled and angle turned\n",
    "\n",
    "pathtraveled=[]\n",
    "for itrial in range(len(trials)):\n",
    "    thisv=np.cumsum(X['rad_vel'][trial_idx==trials[itrial]])\n",
    "    thisw=np.cumsum(X['ang_vel'][trial_idx==trials[itrial]])\n",
    "    pathtraveled.append(np.stack([thisv,thisw]))\n",
    "pathtraveled=np.hstack(pathtraveled).T"
   ]
  },
  {
   "cell_type": "code",
   "execution_count": 12,
   "metadata": {},
   "outputs": [],
   "source": [
    "def quantilenormalize(together, scale=100):\n",
    "    return (together-np.quantile(together, 0.05, axis=0))/(np.quantile(together, 0.95, axis=0)-np.quantile(together, 0.05, axis=0))*scale"
   ]
  },
  {
   "cell_type": "markdown",
   "metadata": {},
   "source": [
    "# prepare data"
   ]
  },
  {
   "cell_type": "code",
   "execution_count": 13,
   "metadata": {},
   "outputs": [
    {
     "data": {
      "text/plain": [
       "((11331, 980), (11331, 11))"
      ]
     },
     "execution_count": 13,
     "metadata": {},
     "output_type": "execute_result"
    }
   ],
   "source": [
    "# select features to use\n",
    "\n",
    "together=np.hstack([states_rel, belief_rel, uncertainty_var,uncertainty_std, trialtime, pathtraveled])\n",
    "x,y=modelX,quantilenormalize(together)\n",
    "\n",
    "x.shape, y.shape"
   ]
  },
  {
   "cell_type": "code",
   "execution_count": 15,
   "metadata": {},
   "outputs": [
    {
     "ename": "IndexError",
     "evalue": "boolean index did not match indexed array along dimension 0; dimension is 12041 but corresponding boolean dimension is 11331",
     "output_type": "error",
     "traceback": [
      "\u001b[1;31m---------------------------------------------------------------------------\u001b[0m",
      "\u001b[1;31mIndexError\u001b[0m                                Traceback (most recent call last)",
      "\u001b[1;32m<ipython-input-15-19830bccdba7>\u001b[0m in \u001b[0;36m<module>\u001b[1;34m\u001b[0m\n\u001b[0;32m      4\u001b[0m \u001b[1;33m\u001b[0m\u001b[0m\n\u001b[0;32m      5\u001b[0m \u001b[1;32mfor\u001b[0m \u001b[0mitrial\u001b[0m \u001b[1;32min\u001b[0m \u001b[0mrange\u001b[0m\u001b[1;33m(\u001b[0m\u001b[0mlen\u001b[0m\u001b[1;33m(\u001b[0m\u001b[0mtrials\u001b[0m\u001b[1;33m)\u001b[0m\u001b[1;33m)\u001b[0m\u001b[1;33m:\u001b[0m\u001b[1;33m\u001b[0m\u001b[1;33m\u001b[0m\u001b[0m\n\u001b[1;32m----> 6\u001b[1;33m     \u001b[0mxr\u001b[0m\u001b[1;33m,\u001b[0m \u001b[0myr\u001b[0m \u001b[1;33m=\u001b[0m \u001b[0mXmat\u001b[0m\u001b[1;33m[\u001b[0m\u001b[1;34m'eye_hori'\u001b[0m\u001b[1;33m]\u001b[0m\u001b[1;33m[\u001b[0m\u001b[0mtrial_idx\u001b[0m \u001b[1;33m==\u001b[0m \u001b[0mtrials\u001b[0m\u001b[1;33m[\u001b[0m\u001b[0mitrial\u001b[0m\u001b[1;33m]\u001b[0m\u001b[1;33m]\u001b[0m\u001b[1;33m,\u001b[0m \u001b[0mXmat\u001b[0m\u001b[1;33m[\u001b[0m\u001b[1;34m'eye_vert'\u001b[0m\u001b[1;33m]\u001b[0m\u001b[1;33m[\u001b[0m\u001b[0mtrial_idx\u001b[0m \u001b[1;33m==\u001b[0m \u001b[0mtrials\u001b[0m\u001b[1;33m[\u001b[0m\u001b[0mitrial\u001b[0m\u001b[1;33m]\u001b[0m\u001b[1;33m]\u001b[0m\u001b[1;33m\u001b[0m\u001b[1;33m\u001b[0m\u001b[0m\n\u001b[0m\u001b[0;32m      7\u001b[0m     \u001b[0meyehv\u001b[0m\u001b[1;33m.\u001b[0m\u001b[0mappend\u001b[0m\u001b[1;33m(\u001b[0m\u001b[0mnp\u001b[0m\u001b[1;33m.\u001b[0m\u001b[0mvstack\u001b[0m\u001b[1;33m(\u001b[0m\u001b[1;33m[\u001b[0m\u001b[0mxr\u001b[0m\u001b[1;33m,\u001b[0m \u001b[0myr\u001b[0m\u001b[1;33m]\u001b[0m\u001b[1;33m)\u001b[0m\u001b[1;33m)\u001b[0m\u001b[1;33m\u001b[0m\u001b[1;33m\u001b[0m\u001b[0m\n\u001b[0;32m      8\u001b[0m \u001b[1;33m\u001b[0m\u001b[0m\n",
      "\u001b[1;31mIndexError\u001b[0m: boolean index did not match indexed array along dimension 0; dimension is 12041 but corresponding boolean dimension is 11331"
     ]
    }
   ],
   "source": [
    "# eye data\n",
    "\n",
    "eyehv=[]\n",
    "\n",
    "for itrial in range(len(trials)):\n",
    "    xr, yr = Xmat['eye_hori'][trial_idx == trials[itrial]], Xmat['eye_vert'][trial_idx == trials[itrial]]\n",
    "    eyehv.append(np.vstack([xr, yr]))\n",
    "\n",
    "\n",
    "\n"
   ]
  },
  {
   "cell_type": "code",
   "execution_count": 17,
   "metadata": {},
   "outputs": [
    {
     "data": {
      "text/plain": [
       "((12041,), (11331,))"
      ]
     },
     "execution_count": 17,
     "metadata": {},
     "output_type": "execute_result"
    }
   ],
   "source": [
    "Xmat['eye_hori'].shape, non_nan.shape"
   ]
  },
  {
   "cell_type": "code",
   "execution_count": null,
   "metadata": {},
   "outputs": [],
   "source": []
  }
 ],
 "metadata": {
  "kernelspec": {
   "display_name": "Python 3",
   "language": "python",
   "name": "python3"
  },
  "language_info": {
   "codemirror_mode": {
    "name": "ipython",
    "version": 3
   },
   "file_extension": ".py",
   "mimetype": "text/x-python",
   "name": "python",
   "nbconvert_exporter": "python",
   "pygments_lexer": "ipython3",
   "version": "3.7.6"
  },
  "orig_nbformat": 4
 },
 "nbformat": 4,
 "nbformat_minor": 2
}
